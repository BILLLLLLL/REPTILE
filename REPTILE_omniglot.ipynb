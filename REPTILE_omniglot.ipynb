{
  "nbformat": 4,
  "nbformat_minor": 0,
  "metadata": {
    "colab": {
      "provenance": []
    },
    "kernelspec": {
      "name": "python3",
      "display_name": "Python 3"
    },
    "language_info": {
      "name": "python"
    },
    "gpuClass": "standard"
  },
  "cells": [
    {
      "cell_type": "code",
      "execution_count": 1,
      "metadata": {
        "id": "lOBQ4V-TSSWi"
      },
      "outputs": [],
      "source": [
        "import os\n",
        "import json\n",
        "import numpy as np\n",
        "import torch\n",
        "import torch.nn as nn\n",
        "import torch.nn.functional as F\n",
        "import torch.utils as utils\n",
        "import torch.optim as optim\n",
        "import torchvision\n",
        "import torch.utils.data as data\n",
        "from torchvision import datasets, transforms\n",
        "import matplotlib.pyplot as plt"
      ]
    },
    {
      "cell_type": "code",
      "source": [
        "class fewShotDataset(data.Dataset):\n",
        "  def __init__(self, indices, parent):\n",
        "    self.indices = indices\n",
        "    self.parent = parent\n",
        "  \n",
        "  def __len__(self):\n",
        "    return len(self.indices)\n",
        "  \n",
        "  def __getitem__(self, idx):\n",
        "    index = self.indices[idx]\n",
        "    return self.parent.__getitem__(index)"
      ],
      "metadata": {
        "id": "8eNrgx-t0Vz2"
      },
      "execution_count": 2,
      "outputs": []
    },
    {
      "cell_type": "code",
      "source": [
        "\n",
        "class OMM(nn.Module):\n",
        "  def __init__(self, num_classes):\n",
        "    super().__init__()\n",
        "    self.num_classes = num_classes\n",
        "    self.conv = nn.Sequential(\n",
        "        # 105 x 105 - 1\n",
        "        nn.Conv2d(1, 64, 7, 2, 1),\n",
        "        nn.BatchNorm2d(64),\n",
        "        nn.ReLU(),\n",
        "\n",
        "        # 51 x 51 - 64\n",
        "        nn.Conv2d(64, 64, 5, 2, 1),\n",
        "        nn.BatchNorm2d(64),\n",
        "        nn.ReLU(),\n",
        "\n",
        "        # 25 x 25 - 64\n",
        "        nn.Conv2d(64, 64, 3, 2, 1),\n",
        "        nn.BatchNorm2d(64),\n",
        "        nn.ReLU(),\n",
        "\n",
        "        # 14 x 14 - 64\n",
        "        nn.Conv2d(64, 64, 3, 2, 1),\n",
        "        nn.BatchNorm2d(64),\n",
        "        nn.ReLU(),\n",
        "\n",
        "        # 7 x 7 - 64\n",
        "        nn.Conv2d(64, 64, 3, 2, 1),\n",
        "        nn.BatchNorm2d(64),\n",
        "        nn.ReLU(),\n",
        "\n",
        "        # 4 x 4 - 64\n",
        "        nn.Conv2d(64, 64, 3, 2, 1),\n",
        "        nn.BatchNorm2d(64),\n",
        "        nn.ReLU(),\n",
        "\n",
        "        # 2 x 2 - 64\n",
        "    )\n",
        "\n",
        "    self.linear = nn.Linear(256, self.num_classes)\n",
        "\n",
        "    self.prob = nn.Softmax()\n",
        "\n",
        "    self.loss = nn.CrossEntropyLoss()\n",
        "  \n",
        "  def Forward(self, X: torch.Tensor):\n",
        "    if not X.is_cuda:\n",
        "      X = X.cuda()\n",
        "    X = X.view(-1, 1, 105, 105)\n",
        "    X = self.conv(X)\n",
        "    X = X.view(-1, 256)\n",
        "    X = self.linear(X)\n",
        "    X = self.prob(X)\n",
        "    _, pred = X.max(1)\n",
        "    return X, pred\n",
        "\n",
        "  "
      ],
      "metadata": {
        "id": "H8kvIkEx4KZW"
      },
      "execution_count": 3,
      "outputs": []
    },
    {
      "cell_type": "code",
      "source": [
        "class REPTILE:\n",
        "  def __init__(self, model: nn.module, dataset: data.Dataset, optim: torch.optim):\n",
        "    self.model = model\n",
        "    self.metaModel = model\n",
        "    self.dataset = dataset\n",
        "    self.optim = optim\n",
        "    self.iteration = 0\n",
        "\n",
        "  def getNext(self):\n",
        "    while True:\n",
        "      for x in self.dataset:\n",
        "        yield x\n",
        "  \n",
        "  @staticmethod\n",
        "  def selectTraining_Test(K_shots=1, N=5, test_shot = 1):\n",
        "  #some hard coding used, 20 samples per script, 964 total scripts\n",
        "    clases = np.random.choice(964, N, replace=False) * 20 #indices\n",
        "    sample = np.array([np.random.choice(16, K_shots, replace=False) for i in range(N)])\n",
        "    test = np.array([np.random.choice([16, 20], test_shot, replace=False) for i in range(N)])\n",
        "    sample = sample.reshape((-1, N))\n",
        "    test = test.reshape((-1, N))\n",
        "    train = (sample + clases).flatten()\n",
        "    test = (test + clases).flatten()\n",
        "    return train, test\n",
        "  \n",
        "  def step(self):\n",
        "    return"
      ],
      "metadata": {
        "id": "eo7ulX1Y6oCy"
      },
      "execution_count": null,
      "outputs": []
    },
    {
      "cell_type": "code",
      "source": [
        "def train(dataIter, model, optimizer, iterations=1000):\n",
        "  #does SGD with one dataset at once\n",
        "    model.train()\n",
        "    for iteration in range(iterations):\n",
        "        X, y = next(dataIter)\n",
        "        X, y = X.cuda(), y.cuda()\n",
        "        pred, _ = model.Forward(X)\n",
        "        loss = model.loss(pred, y)\n",
        "        optimizer.zero_grad()\n",
        "        loss.backward()\n",
        "        optimizer.step()\n",
        "        \"\"\"\n",
        "        if batch % 100 == 0:\n",
        "            loss, current = loss.item(), batch * len(X)\n",
        "            print(f\"loss: {loss:>7f}  [{current:>5d}/{size:>5d}]\")\n",
        "            \"\"\""
      ],
      "metadata": {
        "id": "u8VRvdCNxOMP"
      },
      "execution_count": 4,
      "outputs": []
    },
    {
      "cell_type": "code",
      "source": [
        "def evaluate(dataIter, model, loss_fn, testIt):\n",
        "    model.eval()\n",
        "    losses, accuracies = [], []\n",
        "    for iteration in range(testIt):\n",
        "        data, labels = next(dataIter)\n",
        "        data, labels = data.cuda(), labels.cuda()\n",
        "        prediction, argmax = model.Forward(data)\n",
        "\n",
        "        # Get softmax loss\n",
        "        loss = model.loss(prediction, labels)\n",
        "\n",
        "        # Get accuracy (note: this is still comparing 1 label, used this for convenience sake for loss)\n",
        "        accuracy = (argmax == labels).float().mean()\n",
        "\n",
        "        losses.append(loss.item())\n",
        "        accuracies.append(accuracy.item())\n",
        "\n",
        "    return np.mean(losses), np.mean(accuracies)"
      ],
      "metadata": {
        "id": "mYCh-ExI2U83"
      },
      "execution_count": 5,
      "outputs": []
    },
    {
      "cell_type": "code",
      "source": [
        "valid_test_transform = transforms.Compose(\n",
        "    [\n",
        "        transforms.ToTensor(),   # convert image to PyTorch Tensor\n",
        "        # normalize to [-1.0, 1.0] (originally [0.0, 1.0])\n",
        "    ]\n",
        ")\n",
        "\n",
        "train_transform = transforms.Compose(\n",
        "    [\n",
        "        transforms.ToTensor(),\n",
        "    ]\n",
        ")\n",
        "\n",
        "ds = datasets.Omniglot(\n",
        "    root = \"Data\",\n",
        "    download = True,\n",
        "    transform = train_transform\n",
        ")\n",
        "\n",
        "print(ds.__len__())\n",
        "#Gen = torch.Generator().manual_seed(189)\n",
        "\n",
        "#train, test = data.random_split(ds, [0.8, 0.2], Gen)\n",
        "\n"
      ],
      "metadata": {
        "colab": {
          "base_uri": "https://localhost:8080/"
        },
        "id": "FAM5bmbW2Zbu",
        "outputId": "9f423a96-327f-4dfb-cbc9-29d0f22bed83"
      },
      "execution_count": 6,
      "outputs": [
        {
          "output_type": "stream",
          "name": "stdout",
          "text": [
            "Downloading https://raw.githubusercontent.com/brendenlake/omniglot/master/python/images_background.zip to Data/omniglot-py/images_background.zip\n"
          ]
        },
        {
          "output_type": "stream",
          "name": "stderr",
          "text": [
            "100%|██████████| 9464212/9464212 [00:00<00:00, 95155158.34it/s]"
          ]
        },
        {
          "output_type": "stream",
          "name": "stdout",
          "text": [
            "Extracting Data/omniglot-py/images_background.zip to Data/omniglot-py\n"
          ]
        },
        {
          "output_type": "stream",
          "name": "stderr",
          "text": [
            "\n"
          ]
        },
        {
          "output_type": "stream",
          "name": "stdout",
          "text": [
            "19280\n"
          ]
        }
      ]
    },
    {
      "cell_type": "code",
      "source": [
        "def imshow(img):\n",
        "    #img = img / 2 + 0.5     # unnormalize\n",
        "    npimg = img.numpy()\n",
        "    print(img.shape)\n",
        "    plt.imshow(npimg)\n",
        "    plt.show()\n",
        "\n",
        "\n",
        "#print(train.__len__())\n",
        "#print(test.__len__())\n",
        "#20 per script, set away the last 4 as validation\n",
        "\"\"\"\n",
        "for i in range(20, 40):\n",
        "  print(i)\n",
        "  image, labels = ds.__getitem__(i)\n",
        "  # show images\n",
        "  print(labels)\n",
        "  imshow(torchvision.utils.make_grid(image))\n",
        "\"\"\""
      ],
      "metadata": {
        "colab": {
          "base_uri": "https://localhost:8080/",
          "height": 36
        },
        "id": "MyJIOD7M9C83",
        "outputId": "5bce9584-1eb2-4724-e27b-4054551bc231"
      },
      "execution_count": 7,
      "outputs": [
        {
          "output_type": "execute_result",
          "data": {
            "text/plain": [
              "'\\nfor i in range(20, 40):\\n  print(i)\\n  image, labels = ds.__getitem__(i)\\n  # show images\\n  print(labels)\\n  imshow(torchvision.utils.make_grid(image))\\n'"
            ],
            "application/vnd.google.colaboratory.intrinsic+json": {
              "type": "string"
            }
          },
          "metadata": {},
          "execution_count": 7
        }
      ]
    },
    {
      "cell_type": "code",
      "source": [
        "innerLR = 0.001\n",
        "outerLR = 0.5\n",
        "innerIt = 10\n",
        "totIt = 50000\n",
        "batch_size = 10\n",
        "num_shots = 2\n",
        "evalIt = 1000 #evaluate every 1000 steps\n",
        "N = 5\n",
        "num_classes = 964\n",
        "model = OMM(num_classes)\n",
        "metaModel = OMM(num_classes)\n",
        "model.cuda()\n",
        "metaModel.cuda()\n",
        "optimInner = torch.optim.Adam(model.parameters(), innerLR, betas = (0, 0.999)) #for normal ConvNet training\n",
        "optimMeta = torch.optim.SGD(model.parameters(), outerLR, momentum = 0.8)"
      ],
      "metadata": {
        "id": "er2r_v_vczl9"
      },
      "execution_count": 11,
      "outputs": []
    },
    {
      "cell_type": "code",
      "source": [
        "def selectTraining_Test(K_shots=1, N=5, test_shot = 1):\n",
        "  #some hard coding used, 20 samples per script, 964 total scripts\n",
        "  clases = np.random.choice(964, N, replace=False) * 20 #indices\n",
        "  sample = np.array([np.random.choice(16, K_shots, replace=False) for i in range(N)])\n",
        "  test = np.array([np.random.choice([16, 20], test_shot, replace=False) for i in range(N)])\n",
        "  sample = sample.reshape((-1, N))\n",
        "  test = test.reshape((-1, N))\n",
        "  train = (sample + clases).flatten()\n",
        "  test = (test + clases).flatten()\n",
        "  return train, test\n",
        "\n",
        "def getNext(dataset):\n",
        "  while True:\n",
        "    for x in dataset:\n",
        "      yield x\n"
      ],
      "metadata": {
        "id": "4bwd2hid-EjE"
      },
      "execution_count": 9,
      "outputs": []
    },
    {
      "cell_type": "code",
      "source": [
        "from torch.utils.data.dataloader import DataLoader\n",
        "\n",
        "\"\"\"\n",
        "trainData, _ = selectTraining_Test(2, 5, 2)\n",
        "trainDataloader = DataLoader(ds, batch_size=10, sampler = trainData)\n",
        "# in the case where the amount of selected data is less than 10, the batch will be that size instead of 10\n",
        "K = getNext(trainDataloader)\n",
        "for i in range(10):\n",
        "  X, y = next(K)\n",
        "  X = X[i].squeeze()\n",
        "  print(y[i].item())\n",
        "  imshow(X)\n",
        "\"\"\"\n",
        "acc = []\n",
        "\n",
        "for metaIt in range(totIt + 1):\n",
        "  metaLR = outerLR * (1 - metaIt/totIt)\n",
        "  trainSet, _ = selectTraining_Test(num_shots, N, 2)\n",
        "  trainDataloader = DataLoader(fewShotDataset(trainSet, ds), 10, True)\n",
        "  trainDataloader = getNext(trainDataloader)\n",
        "  currOptim = optimInner\n",
        "  model.load_state_dict(metaModel.state_dict())\n",
        "  train(trainDataloader, model, currOptim, innerIt)\n",
        "  modelDict = model.state_dict()\n",
        "  metaModel.load_state_dict({name: metaModel.state_dict()[name] + \\\n",
        "                             (modelDict[name] - metaModel.state_dict()[name])\\\n",
        "                             * metaLR for name in metaModel.state_dict().keys()})\n",
        "\n",
        "  #eval phase\n",
        "  if not metaIt % 1000 and metaIt:\n",
        "    trainSet2, test2 = selectTraining_Test(num_shots, N, 2)\n",
        "    trainSample = DataLoader(fewShotDataset(trainSet2, ds), 10, True)\n",
        "    testDataloader = DataLoader(fewShotDataset(test2, ds), 10, True)\n",
        "\n",
        "    # Convert into generators\n",
        "    trainSample = getNext(trainSample)\n",
        "    testDataloader = getNext(testDataloader)\n",
        "\n",
        "    state = metaModel.state_dict()\n",
        "    testModel = OMM(num_classes).cuda()\n",
        "    testModel.load_state_dict(state)\n",
        "    train(trainSample, testModel, optimInner, 20)\n",
        "    loss, accuracy = evaluate(testDataloader, testModel, testModel.loss, 20)\n",
        "    print(f\"The loss on iteration {metaIt} is {loss}\")\n",
        "    print(f\"The accuracy on iteration {metaIt} is {accuracy * 100}%\")\n",
        "    acc.append(accuracy * 100)\n",
        "\n",
        "  \n",
        "\n"
      ],
      "metadata": {
        "colab": {
          "base_uri": "https://localhost:8080/"
        },
        "id": "-IA-vgy_2nZw",
        "outputId": "4562b6ca-9752-49a0-feb6-dcef1f4b2576"
      },
      "execution_count": 12,
      "outputs": [
        {
          "output_type": "stream",
          "name": "stderr",
          "text": [
            "<ipython-input-3-2e681947501a>:52: UserWarning: Implicit dimension choice for softmax has been deprecated. Change the call to include dim=X as an argument.\n",
            "  X = self.prob(X)\n"
          ]
        },
        {
          "output_type": "stream",
          "name": "stdout",
          "text": [
            "The loss on iteration 1000 is 6.871419525146484\n",
            "The accuracy on iteration 1000 is 0.0%\n",
            "The loss on iteration 2000 is 6.719412779808044\n",
            "The accuracy on iteration 2000 is 20.000000298023224%\n",
            "The loss on iteration 3000 is 6.466122651100159\n",
            "The accuracy on iteration 3000 is 50.0%\n",
            "The loss on iteration 4000 is 6.709616994857788\n",
            "The accuracy on iteration 4000 is 30.000001192092896%\n",
            "The loss on iteration 5000 is 6.455261373519898\n",
            "The accuracy on iteration 5000 is 40.00000059604645%\n",
            "The loss on iteration 6000 is 6.772847247123718\n",
            "The accuracy on iteration 6000 is 10.000000149011612%\n",
            "The loss on iteration 7000 is 6.443010663986206\n",
            "The accuracy on iteration 7000 is 40.00000059604645%\n",
            "The loss on iteration 8000 is 6.473371982574463\n",
            "The accuracy on iteration 8000 is 30.000001192092896%\n",
            "The loss on iteration 9000 is 6.21303071975708\n",
            "The accuracy on iteration 9000 is 60.00000238418579%\n",
            "The loss on iteration 10000 is 6.1530961990356445\n",
            "The accuracy on iteration 10000 is 69.9999988079071%\n",
            "The loss on iteration 11000 is 6.106570053100586\n",
            "The accuracy on iteration 11000 is 80.0000011920929%\n",
            "The loss on iteration 12000 is 6.078615307807922\n",
            "The accuracy on iteration 12000 is 80.0000011920929%\n",
            "The loss on iteration 13000 is 6.283974695205688\n",
            "The accuracy on iteration 13000 is 60.00000238418579%\n",
            "The loss on iteration 14000 is 6.395487546920776\n",
            "The accuracy on iteration 14000 is 30.000001192092896%\n",
            "The loss on iteration 15000 is 6.256756520271301\n",
            "The accuracy on iteration 15000 is 60.00000238418579%\n",
            "The loss on iteration 16000 is 6.032579112052917\n",
            "The accuracy on iteration 16000 is 80.0000011920929%\n",
            "The loss on iteration 17000 is 6.077029585838318\n",
            "The accuracy on iteration 17000 is 80.0000011920929%\n",
            "The loss on iteration 18000 is 5.986630082130432\n",
            "The accuracy on iteration 18000 is 90.00000357627869%\n",
            "The loss on iteration 19000 is 5.984541916847229\n",
            "The accuracy on iteration 19000 is 90.00000357627869%\n",
            "The loss on iteration 20000 is 6.347652435302734\n",
            "The accuracy on iteration 20000 is 50.0%\n",
            "The loss on iteration 21000 is 6.147621059417725\n",
            "The accuracy on iteration 21000 is 69.9999988079071%\n",
            "The loss on iteration 22000 is 6.263244199752807\n",
            "The accuracy on iteration 22000 is 60.00000238418579%\n",
            "The loss on iteration 23000 is 6.075760078430176\n",
            "The accuracy on iteration 23000 is 80.0000011920929%\n",
            "The loss on iteration 24000 is 6.181315302848816\n",
            "The accuracy on iteration 24000 is 69.9999988079071%\n",
            "The loss on iteration 25000 is 5.936552810668945\n",
            "The accuracy on iteration 25000 is 90.00000357627869%\n",
            "The loss on iteration 26000 is 6.148923349380493\n",
            "The accuracy on iteration 26000 is 69.9999988079071%\n",
            "The loss on iteration 27000 is 6.042572927474976\n",
            "The accuracy on iteration 27000 is 80.0000011920929%\n",
            "The loss on iteration 28000 is 6.072813987731934\n",
            "The accuracy on iteration 28000 is 80.0000011920929%\n",
            "The loss on iteration 29000 is 6.373145294189453\n",
            "The accuracy on iteration 29000 is 50.0%\n",
            "The loss on iteration 30000 is 6.039502120018005\n",
            "The accuracy on iteration 30000 is 80.0000011920929%\n",
            "The loss on iteration 31000 is 6.185544276237488\n",
            "The accuracy on iteration 31000 is 69.9999988079071%\n",
            "The loss on iteration 32000 is 6.282601356506348\n",
            "The accuracy on iteration 32000 is 50.0%\n",
            "The loss on iteration 33000 is 5.994353079795838\n",
            "The accuracy on iteration 33000 is 90.00000357627869%\n",
            "The loss on iteration 34000 is 6.570389819145203\n",
            "The accuracy on iteration 34000 is 30.000001192092896%\n",
            "The loss on iteration 35000 is 6.108349728584289\n",
            "The accuracy on iteration 35000 is 80.0000011920929%\n",
            "The loss on iteration 36000 is 6.233880853652954\n",
            "The accuracy on iteration 36000 is 60.00000238418579%\n",
            "The loss on iteration 37000 is 6.067875075340271\n",
            "The accuracy on iteration 37000 is 80.0000011920929%\n",
            "The loss on iteration 38000 is 6.073195457458496\n",
            "The accuracy on iteration 38000 is 80.0000011920929%\n",
            "The loss on iteration 39000 is 6.040240168571472\n",
            "The accuracy on iteration 39000 is 80.0000011920929%\n",
            "The loss on iteration 40000 is 5.970470833778381\n",
            "The accuracy on iteration 40000 is 90.00000357627869%\n",
            "The loss on iteration 41000 is 5.873108696937561\n",
            "The accuracy on iteration 41000 is 100.0%\n",
            "The loss on iteration 42000 is 6.002086639404297\n",
            "The accuracy on iteration 42000 is 90.00000357627869%\n",
            "The loss on iteration 43000 is 6.133738040924072\n",
            "The accuracy on iteration 43000 is 69.9999988079071%\n",
            "The loss on iteration 44000 is 6.251857948303223\n",
            "The accuracy on iteration 44000 is 60.00000238418579%\n",
            "The loss on iteration 45000 is 6.16773555278778\n",
            "The accuracy on iteration 45000 is 69.9999988079071%\n",
            "The loss on iteration 46000 is 6.1445071458816525\n",
            "The accuracy on iteration 46000 is 69.9999988079071%\n",
            "The loss on iteration 47000 is 6.366171717643738\n",
            "The accuracy on iteration 47000 is 50.0%\n",
            "The loss on iteration 48000 is 6.072917866706848\n",
            "The accuracy on iteration 48000 is 80.0000011920929%\n",
            "The loss on iteration 49000 is 5.880491042137146\n",
            "The accuracy on iteration 49000 is 100.0%\n",
            "The loss on iteration 50000 is 6.173915052413941\n",
            "The accuracy on iteration 50000 is 69.9999988079071%\n"
          ]
        }
      ]
    },
    {
      "cell_type": "code",
      "source": [
        "plt.plot(np.arange(totIt/1000), acc)\n",
        "plt.xlabel(\"number of iterations in the inner loop (k)\")\n",
        "plt.ylabel(\"validation set accuracy (%)\")\n",
        "plt.show()"
      ],
      "metadata": {
        "id": "UsZVngnQdMbq",
        "colab": {
          "base_uri": "https://localhost:8080/",
          "height": 449
        },
        "outputId": "cb2b7148-5683-49a1-e631-0f53c51c034c"
      },
      "execution_count": 16,
      "outputs": [
        {
          "output_type": "display_data",
          "data": {
            "text/plain": [
              "<Figure size 640x480 with 1 Axes>"
            ],
            "image/png": "[encoded data removed]"
          },
          "metadata": {}
        }
      ]
    },
    {
      "cell_type": "code",
      "source": [],
      "metadata": {
        "id": "z05lAcWMC9Nj"
      },
      "execution_count": null,
      "outputs": []
    }
  ]
}